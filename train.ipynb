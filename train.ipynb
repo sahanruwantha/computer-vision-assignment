{
 "cells": [
  {
   "cell_type": "code",
   "execution_count": null,
   "metadata": {
    "_cell_guid": "ab3987c7-8166-4806-b970-c29dd2a1f76b",
    "_uuid": "f705152c-040f-432e-bac5-0460c6b2abda",
    "collapsed": false,
    "execution": {
     "iopub.execute_input": "2025-09-28T12:42:48.933343Z",
     "iopub.status.busy": "2025-09-28T12:42:48.933090Z",
     "iopub.status.idle": "2025-09-28T12:43:05.327552Z",
     "shell.execute_reply": "2025-09-28T12:43:05.326804Z",
     "shell.execute_reply.started": "2025-09-28T12:42:48.933322Z"
    },
    "jupyter": {
     "outputs_hidden": false
    },
    "trusted": true
   },
   "outputs": [],
   "source": [
    "import numpy as np\n",
    "import matplotlib.pyplot as plt\n",
    "import random\n",
    "import os\n",
    "import tensorflow as tf\n",
    "from tensorflow.keras.preprocessing.image import ImageDataGenerator\n",
    "from tensorflow.keras.models import Sequential\n",
    "from tensorflow.keras.layers import Dense, Flatten, Conv2D, MaxPooling2D, Dropout"
   ]
  },
  {
   "cell_type": "code",
   "execution_count": null,
   "metadata": {
    "_cell_guid": "b47f7137-68a8-4a89-a8ff-df108ace76be",
    "_uuid": "8cd96397-286a-4078-a16b-52b301900a54",
    "collapsed": false,
    "execution": {
     "iopub.execute_input": "2025-09-28T12:43:05.329038Z",
     "iopub.status.busy": "2025-09-28T12:43:05.328493Z",
     "iopub.status.idle": "2025-09-28T12:43:05.333558Z",
     "shell.execute_reply": "2025-09-28T12:43:05.332690Z",
     "shell.execute_reply.started": "2025-09-28T12:43:05.329003Z"
    },
    "jupyter": {
     "outputs_hidden": false
    },
    "trusted": true
   },
   "outputs": [],
   "source": [
    "# ---------------------------\n",
    "# Dataset Path\n",
    "# ---------------------------\n",
    "dataset_path = \"/kaggle/input/fer2013\"\n",
    "\n",
    "# Image size for FER2013\n",
    "img_size = (48,48)"
   ]
  },
  {
   "cell_type": "code",
   "execution_count": null,
   "metadata": {
    "_cell_guid": "f212e0fd-cd8c-4e96-a116-306cc19d0a00",
    "_uuid": "a61fc5a2-d3d7-4d00-a291-27336089b727",
    "collapsed": false,
    "execution": {
     "iopub.execute_input": "2025-09-28T12:43:05.336098Z",
     "iopub.status.busy": "2025-09-28T12:43:05.335709Z",
     "iopub.status.idle": "2025-09-28T12:43:18.100807Z",
     "shell.execute_reply": "2025-09-28T12:43:18.099762Z",
     "shell.execute_reply.started": "2025-09-28T12:43:05.336062Z"
    },
    "jupyter": {
     "outputs_hidden": false
    },
    "trusted": true
   },
   "outputs": [],
   "source": [
    "datagen = ImageDataGenerator(rescale=1./255)\n",
    "\n",
    "train_data = datagen.flow_from_directory(\n",
    "    dataset_path + \"/train\",\n",
    "    target_size=img_size,\n",
    "    color_mode=\"grayscale\",\n",
    "    class_mode=\"categorical\",\n",
    "    batch_size=10,\n",
    "    shuffle=True\n",
    ")\n",
    "\n",
    "X_small, y_small = next(train_data)"
   ]
  },
  {
   "cell_type": "code",
   "execution_count": null,
   "metadata": {
    "_cell_guid": "e4e87932-bd1e-458c-ae9d-fef2fc923cf3",
    "_uuid": "3cea8c66-9546-4545-aacd-01d5c77f2410",
    "collapsed": false,
    "execution": {
     "iopub.execute_input": "2025-09-28T12:43:18.102029Z",
     "iopub.status.busy": "2025-09-28T12:43:18.101762Z",
     "iopub.status.idle": "2025-09-28T12:43:20.432036Z",
     "shell.execute_reply": "2025-09-28T12:43:20.431208Z",
     "shell.execute_reply.started": "2025-09-28T12:43:18.102007Z"
    },
    "jupyter": {
     "outputs_hidden": false
    },
    "trusted": true
   },
   "outputs": [],
   "source": [
    "\n",
    "# ---------------------------\n",
    "# DNN Model\n",
    "# ---------------------------\n",
    "dnn = Sequential([\n",
    "    Flatten(input_shape=(48,48,1)),\n",
    "    Dense(128, activation='relu'),\n",
    "    Dense(64, activation='relu'),\n",
    "    Dense(len(train_data.class_indices), activation='softmax')\n",
    "])\n",
    "\n",
    "dnn.compile(optimizer='adam', loss='categorical_crossentropy', metrics=['accuracy'])\n",
    "dnn.fit(X_small, y_small, epochs=10, verbose=0)"
   ]
  },
  {
   "cell_type": "code",
   "execution_count": null,
   "metadata": {
    "_cell_guid": "93b17ec6-5243-484f-974a-37db494466d1",
    "_uuid": "ac414a91-48c8-4a24-8b24-f2e8140759e3",
    "collapsed": false,
    "execution": {
     "iopub.execute_input": "2025-09-28T12:43:20.433133Z",
     "iopub.status.busy": "2025-09-28T12:43:20.432891Z",
     "iopub.status.idle": "2025-09-28T12:43:23.610220Z",
     "shell.execute_reply": "2025-09-28T12:43:23.609548Z",
     "shell.execute_reply.started": "2025-09-28T12:43:20.433115Z"
    },
    "jupyter": {
     "outputs_hidden": false
    },
    "trusted": true
   },
   "outputs": [],
   "source": [
    "# ---------------------------\n",
    "# CNN Model\n",
    "# ---------------------------\n",
    "cnn = Sequential([\n",
    "    Conv2D(32, (3,3), activation='relu', input_shape=(48,48,1)),\n",
    "    MaxPooling2D((2,2)),\n",
    "    Conv2D(64, (3,3), activation='relu'),\n",
    "    MaxPooling2D((2,2)),\n",
    "    Flatten(),\n",
    "    Dense(128, activation='relu'),\n",
    "    Dropout(0.5),\n",
    "    Dense(len(train_data.class_indices), activation='softmax')\n",
    "])\n",
    "\n",
    "cnn.compile(optimizer='adam', loss='categorical_crossentropy', metrics=['accuracy'])\n",
    "cnn.fit(X_small, y_small, epochs=10, verbose=0)"
   ]
  },
  {
   "cell_type": "code",
   "execution_count": null,
   "metadata": {
    "_cell_guid": "34c550fe-67cf-4757-99ca-1c270488687c",
    "_uuid": "a5f40ecc-ae9a-4c8a-884c-ccb66c134c82",
    "collapsed": false,
    "execution": {
     "iopub.execute_input": "2025-09-28T12:43:23.611390Z",
     "iopub.status.busy": "2025-09-28T12:43:23.611065Z",
     "iopub.status.idle": "2025-09-28T12:43:23.934722Z",
     "shell.execute_reply": "2025-09-28T12:43:23.933781Z",
     "shell.execute_reply.started": "2025-09-28T12:43:23.611370Z"
    },
    "jupyter": {
     "outputs_hidden": false
    },
    "trusted": true
   },
   "outputs": [],
   "source": [
    "# ---------------------------\n",
    "# Pick a random sample\n",
    "# ---------------------------\n",
    "idx = random.randint(0, len(X_small)-1)\n",
    "sample = X_small[idx].reshape(1,48,48,1)\n",
    "true_label = np.argmax(y_small[idx])\n",
    "\n",
    "pred_dnn = np.argmax(dnn.predict(sample))\n",
    "pred_cnn = np.argmax(cnn.predict(sample))\n",
    "\n",
    "# Emotion classes from dataset\n",
    "emotion_dict = {v: k for k,v in train_data.class_indices.items()}"
   ]
  },
  {
   "cell_type": "code",
   "execution_count": null,
   "metadata": {
    "_cell_guid": "53ca87be-c3e8-49d9-99c7-d6817fac79cb",
    "_uuid": "e39b57be-d8f1-43cb-8bd9-67c0f38efe1b",
    "collapsed": false,
    "execution": {
     "iopub.execute_input": "2025-09-28T12:43:23.935776Z",
     "iopub.status.busy": "2025-09-28T12:43:23.935524Z",
     "iopub.status.idle": "2025-09-28T12:43:24.105369Z",
     "shell.execute_reply": "2025-09-28T12:43:24.104346Z",
     "shell.execute_reply.started": "2025-09-28T12:43:23.935758Z"
    },
    "jupyter": {
     "outputs_hidden": false
    },
    "trusted": true
   },
   "outputs": [],
   "source": [
    "# ---------------------------\n",
    "# Display output\n",
    "# ---------------------------\n",
    "plt.imshow(X_small[idx].reshape(48,48), cmap='gray')\n",
    "plt.title(f\"True: {emotion_dict[true_label]}\\nDNN: {emotion_dict[pred_dnn]} | CNN: {emotion_dict[pred_cnn]}\")\n",
    "plt.axis('off')\n",
    "plt.show()"
   ]
  },
  {
   "cell_type": "code",
   "execution_count": null,
   "metadata": {
    "_cell_guid": "945df8ea-f6d5-4412-94f6-538c5b973683",
    "_uuid": "b572451f-bf2c-4d56-8246-835953415c70",
    "collapsed": false,
    "execution": {
     "iopub.execute_input": "2025-09-28T12:43:24.106928Z",
     "iopub.status.busy": "2025-09-28T12:43:24.106582Z",
     "iopub.status.idle": "2025-09-28T12:43:24.205715Z",
     "shell.execute_reply": "2025-09-28T12:43:24.204706Z",
     "shell.execute_reply.started": "2025-09-28T12:43:24.106904Z"
    },
    "jupyter": {
     "outputs_hidden": false
    },
    "trusted": true
   },
   "outputs": [],
   "source": [
    "dnn.save('emotion_dnn_model.h5')\n",
    "cnn.save('emotion_cnn_model.h5')"
   ]
  },
  {
   "cell_type": "code",
   "execution_count": null,
   "metadata": {
    "_cell_guid": "b21acfbd-ab79-4939-96cb-8aadc57a9aa5",
    "_uuid": "16e45923-be53-4c77-b128-6fe0c8c5baac",
    "collapsed": false,
    "execution": {
     "iopub.execute_input": "2025-09-28T13:21:38.411909Z",
     "iopub.status.busy": "2025-09-28T13:21:38.411351Z",
     "iopub.status.idle": "2025-09-28T13:21:38.787503Z",
     "shell.execute_reply": "2025-09-28T13:21:38.786275Z",
     "shell.execute_reply.started": "2025-09-28T13:21:38.411888Z"
    },
    "jupyter": {
     "outputs_hidden": false
    },
    "trusted": true
   },
   "outputs": [],
   "source": [
    "print(\"DNN Performance:\")\n",
    "print(\"Accuracy:\", accuracy_score(y_true, y_pred_dnn_classes))\n",
    "print(\"Precision:\", precision_score(y_true, y_pred_dnn_classes, average='weighted'))\n",
    "print(\"Recall:\", recall_score(y_true, y_pred_dnn_classes, average='weighted'))\n",
    "print(\"F1-score:\", f1_score(y_true, y_pred_dnn_classes, average='weighted'))\n",
    "print(classification_report(y_true, y_pred_dnn_classes, target_names=class_labels))"
   ]
  },
  {
   "cell_type": "code",
   "execution_count": null,
   "metadata": {
    "_cell_guid": "fd046b97-a851-4d29-af59-0b7c1c247390",
    "_uuid": "9b3c759f-da49-46e1-8e1a-c94251266341",
    "collapsed": false,
    "execution": {
     "iopub.execute_input": "2025-09-28T13:22:12.920493Z",
     "iopub.status.busy": "2025-09-28T13:22:12.919761Z",
     "iopub.status.idle": "2025-09-28T13:22:13.127285Z",
     "shell.execute_reply": "2025-09-28T13:22:13.126066Z",
     "shell.execute_reply.started": "2025-09-28T13:22:12.920462Z"
    },
    "jupyter": {
     "outputs_hidden": false
    },
    "trusted": true
   },
   "outputs": [],
   "source": [
    "from sklearn.metrics import accuracy_score, precision_score, recall_score, f1_score, classification_report\n",
    "\n",
    "# ---------------------------\n",
    "# Load a validation set\n",
    "# ---------------------------\n",
    "val_data = datagen.flow_from_directory(\n",
    "    dataset_path + \"/validation\",\n",
    "    target_size=img_size,\n",
    "    color_mode=\"grayscale\",\n",
    "    class_mode=\"categorical\",\n",
    "    batch_size=32,\n",
    "    shuffle=False\n",
    ")\n",
    "\n",
    "# Get true labels\n",
    "y_true = val_data.classes  # integer labels\n",
    "class_labels = list(val_data.class_indices.keys())\n",
    "\n",
    "# ---------------------------\n",
    "# Evaluate DNN\n",
    "# ---------------------------\n",
    "y_pred_dnn = dnn.predict(val_data)\n",
    "y_pred_dnn_classes = np.argmax(y_pred_dnn, axis=1)\n",
    "\n",
    "print(\"DNN Performance:\")\n",
    "print(\"Accuracy:\", accuracy_score(y_true, y_pred_dnn_classes))\n",
    "print(\"Precision:\", precision_score(y_true, y_pred_dnn_classes, average='weighted'))\n",
    "print(\"Recall:\", recall_score(y_true, y_pred_dnn_classes, average='weighted'))\n",
    "print(\"F1-score:\", f1_score(y_true, y_pred_dnn_classes, average='weighted'))\n",
    "print(classification_report(y_true, y_pred_dnn_classes, target_names=class_labels))\n",
    "\n",
    "# ---------------------------\n",
    "# Evaluate CNN\n",
    "# ---------------------------\n",
    "y_pred_cnn = cnn.predict(val_data)\n",
    "y_pred_cnn_classes = np.argmax(y_pred_cnn, axis=1)\n",
    "\n",
    "print(\"CNN Performance:\")\n",
    "print(\"Accuracy:\", accuracy_score(y_true, y_pred_cnn_classes))\n",
    "print(\"Precision:\", precision_score(y_true, y_pred_cnn_classes, average='weighted'))\n",
    "print(\"Recall:\", recall_score(y_true, y_pred_cnn_classes, average='weighted'))\n",
    "print(\"F1-score:\", f1_score(y_true, y_pred_cnn_classes, average='weighted'))\n",
    "print(classification_report(y_true, y_pred_cnn_classes, target_names=class_labels))"
   ]
  },
  {
   "cell_type": "code",
   "execution_count": 12,
   "metadata": {
    "_cell_guid": "0b01d522-7982-41de-bf4a-9df7952f4221",
    "_uuid": "94c42869-8216-41ea-8676-86379bf29703",
    "collapsed": false,
    "execution": {
     "iopub.execute_input": "2025-09-28T13:26:29.138145Z",
     "iopub.status.busy": "2025-09-28T13:26:29.137826Z",
     "iopub.status.idle": "2025-09-28T13:26:46.371169Z",
     "shell.execute_reply": "2025-09-28T13:26:46.370176Z",
     "shell.execute_reply.started": "2025-09-28T13:26:29.138125Z"
    },
    "jupyter": {
     "outputs_hidden": false
    },
    "trusted": true
   },
   "outputs": [
    {
     "name": "stdout",
     "output_type": "stream",
     "text": [
      "Found 7178 images belonging to 7 classes.\n",
      "\u001b[1m  1/225\u001b[0m \u001b[37m━━━━━━━━━━━━━━━━━━━━\u001b[0m \u001b[1m13s\u001b[0m 59ms/step"
     ]
    },
    {
     "name": "stderr",
     "output_type": "stream",
     "text": [
      "/usr/local/lib/python3.11/dist-packages/keras/src/trainers/data_adapters/py_dataset_adapter.py:121: UserWarning: Your `PyDataset` class should call `super().__init__(**kwargs)` in its constructor. `**kwargs` can include `workers`, `use_multiprocessing`, `max_queue_size`. Do not pass these arguments to `fit()`, as they will be ignored.\n",
      "  self._warn_if_super_not_called()\n"
     ]
    },
    {
     "name": "stdout",
     "output_type": "stream",
     "text": [
      "\u001b[1m225/225\u001b[0m \u001b[32m━━━━━━━━━━━━━━━━━━━━\u001b[0m\u001b[37m\u001b[0m \u001b[1m7s\u001b[0m 33ms/step\n",
      "📊 DNN Performance\n",
      "Accuracy: 0.19281136806910001\n",
      "Precision: 0.16879150442026647\n",
      "Recall: 0.19281136806910001\n",
      "F1-score: 0.16136609900966792\n",
      "              precision    recall  f1-score   support\n",
      "\n",
      "       angry       0.15      0.22      0.18       958\n",
      "     disgust       0.00      0.00      0.00       111\n",
      "        fear       0.15      0.44      0.22      1024\n",
      "       happy       0.30      0.33      0.31      1774\n",
      "     neutral       0.00      0.00      0.00      1233\n",
      "         sad       0.23      0.08      0.12      1247\n",
      "    surprise       0.13      0.06      0.08       831\n",
      "\n",
      "    accuracy                           0.19      7178\n",
      "   macro avg       0.14      0.16      0.13      7178\n",
      "weighted avg       0.17      0.19      0.16      7178\n",
      "\n",
      "\u001b[1m  1/225\u001b[0m \u001b[37m━━━━━━━━━━━━━━━━━━━━\u001b[0m \u001b[1m14s\u001b[0m 64ms/step"
     ]
    },
    {
     "name": "stderr",
     "output_type": "stream",
     "text": [
      "/usr/local/lib/python3.11/dist-packages/sklearn/metrics/_classification.py:1344: UndefinedMetricWarning: Precision is ill-defined and being set to 0.0 in labels with no predicted samples. Use `zero_division` parameter to control this behavior.\n",
      "  _warn_prf(average, modifier, msg_start, len(result))\n",
      "/usr/local/lib/python3.11/dist-packages/sklearn/metrics/_classification.py:1344: UndefinedMetricWarning: Precision and F-score are ill-defined and being set to 0.0 in labels with no predicted samples. Use `zero_division` parameter to control this behavior.\n",
      "  _warn_prf(average, modifier, msg_start, len(result))\n",
      "/usr/local/lib/python3.11/dist-packages/sklearn/metrics/_classification.py:1344: UndefinedMetricWarning: Precision and F-score are ill-defined and being set to 0.0 in labels with no predicted samples. Use `zero_division` parameter to control this behavior.\n",
      "  _warn_prf(average, modifier, msg_start, len(result))\n",
      "/usr/local/lib/python3.11/dist-packages/sklearn/metrics/_classification.py:1344: UndefinedMetricWarning: Precision and F-score are ill-defined and being set to 0.0 in labels with no predicted samples. Use `zero_division` parameter to control this behavior.\n",
      "  _warn_prf(average, modifier, msg_start, len(result))\n"
     ]
    },
    {
     "name": "stdout",
     "output_type": "stream",
     "text": [
      "\u001b[1m225/225\u001b[0m \u001b[32m━━━━━━━━━━━━━━━━━━━━\u001b[0m\u001b[37m\u001b[0m \u001b[1m9s\u001b[0m 38ms/step\n",
      "📊 CNN Performance\n",
      "Accuracy: 0.24895514070771801\n",
      "Precision: 0.12344522274034203\n",
      "Recall: 0.24895514070771801\n",
      "F1-score: 0.11256324471831332\n",
      "              precision    recall  f1-score   support\n",
      "\n",
      "       angry       0.00      0.00      0.00       958\n",
      "     disgust       0.00      0.00      0.00       111\n",
      "        fear       0.17      0.00      0.01      1024\n",
      "       happy       0.25      0.97      0.40      1774\n",
      "     neutral       0.00      0.00      0.00      1233\n",
      "         sad       0.22      0.04      0.07      1247\n",
      "    surprise       0.00      0.00      0.00       831\n",
      "\n",
      "    accuracy                           0.25      7178\n",
      "   macro avg       0.09      0.15      0.07      7178\n",
      "weighted avg       0.12      0.25      0.11      7178\n",
      "\n"
     ]
    },
    {
     "name": "stderr",
     "output_type": "stream",
     "text": [
      "/usr/local/lib/python3.11/dist-packages/sklearn/metrics/_classification.py:1344: UndefinedMetricWarning: Precision is ill-defined and being set to 0.0 in labels with no predicted samples. Use `zero_division` parameter to control this behavior.\n",
      "  _warn_prf(average, modifier, msg_start, len(result))\n",
      "/usr/local/lib/python3.11/dist-packages/sklearn/metrics/_classification.py:1344: UndefinedMetricWarning: Precision and F-score are ill-defined and being set to 0.0 in labels with no predicted samples. Use `zero_division` parameter to control this behavior.\n",
      "  _warn_prf(average, modifier, msg_start, len(result))\n",
      "/usr/local/lib/python3.11/dist-packages/sklearn/metrics/_classification.py:1344: UndefinedMetricWarning: Precision and F-score are ill-defined and being set to 0.0 in labels with no predicted samples. Use `zero_division` parameter to control this behavior.\n",
      "  _warn_prf(average, modifier, msg_start, len(result))\n",
      "/usr/local/lib/python3.11/dist-packages/sklearn/metrics/_classification.py:1344: UndefinedMetricWarning: Precision and F-score are ill-defined and being set to 0.0 in labels with no predicted samples. Use `zero_division` parameter to control this behavior.\n",
      "  _warn_prf(average, modifier, msg_start, len(result))\n"
     ]
    }
   ],
   "source": [
    "from sklearn.metrics import accuracy_score, precision_score, recall_score, f1_score, classification_report\n",
    "\n",
    "# ---------------------------\n",
    "# Load test set instead of validation\n",
    "# ---------------------------\n",
    "test_data = datagen.flow_from_directory(\n",
    "    dataset_path + \"/test\",\n",
    "    target_size=img_size,\n",
    "    color_mode=\"grayscale\",\n",
    "    class_mode=\"categorical\",\n",
    "    batch_size=32,\n",
    "    shuffle=False\n",
    ")\n",
    "\n",
    "# Get true labels\n",
    "y_true = test_data.classes\n",
    "class_labels = list(test_data.class_indices.keys())\n",
    "\n",
    "# ---------------------------\n",
    "# Evaluate DNN\n",
    "# ---------------------------\n",
    "y_pred_dnn = dnn.predict(test_data)\n",
    "y_pred_dnn_classes = np.argmax(y_pred_dnn, axis=1)\n",
    "\n",
    "print(\"📊 DNN Performance\")\n",
    "print(\"Accuracy:\", accuracy_score(y_true, y_pred_dnn_classes))\n",
    "print(\"Precision:\", precision_score(y_true, y_pred_dnn_classes, average='weighted'))\n",
    "print(\"Recall:\", recall_score(y_true, y_pred_dnn_classes, average='weighted'))\n",
    "print(\"F1-score:\", f1_score(y_true, y_pred_dnn_classes, average='weighted'))\n",
    "print(classification_report(y_true, y_pred_dnn_classes, target_names=class_labels))\n",
    "\n",
    "# ---------------------------\n",
    "# Evaluate CNN\n",
    "# ---------------------------\n",
    "y_pred_cnn = cnn.predict(test_data)\n",
    "y_pred_cnn_classes = np.argmax(y_pred_cnn, axis=1)\n",
    "\n",
    "print(\"📊 CNN Performance\")\n",
    "print(\"Accuracy:\", accuracy_score(y_true, y_pred_cnn_classes))\n",
    "print(\"Precision:\", precision_score(y_true, y_pred_cnn_classes, average='weighted'))\n",
    "print(\"Recall:\", recall_score(y_true, y_pred_cnn_classes, average='weighted'))\n",
    "print(\"F1-score:\", f1_score(y_true, y_pred_cnn_classes, average='weighted'))\n",
    "print(classification_report(y_true, y_pred_cnn_classes, target_names=class_labels))"
   ]
  }
 ],
 "metadata": {
  "kaggle": {
   "accelerator": "none",
   "dataSources": [
    {
     "datasetId": 786787,
     "sourceId": 1351797,
     "sourceType": "datasetVersion"
    }
   ],
   "dockerImageVersionId": 31089,
   "isGpuEnabled": false,
   "isInternetEnabled": false,
   "language": "python",
   "sourceType": "notebook"
  },
  "kernelspec": {
   "display_name": "Python 3",
   "language": "python",
   "name": "python3"
  },
  "language_info": {
   "codemirror_mode": {
    "name": "ipython",
    "version": 3
   },
   "file_extension": ".py",
   "mimetype": "text/x-python",
   "name": "python",
   "nbconvert_exporter": "python",
   "pygments_lexer": "ipython3",
   "version": "3.11.13"
  }
 },
 "nbformat": 4,
 "nbformat_minor": 4
}
